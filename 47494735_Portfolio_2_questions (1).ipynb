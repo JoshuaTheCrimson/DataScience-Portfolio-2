{
 "cells": [
  {
   "cell_type": "markdown",
   "id": "Z88FfJc9lA_T",
   "metadata": {
    "id": "Z88FfJc9lA_T"
   },
   "source": [
    "## Analysis of an E-commerce Dataset Part 2"
   ]
  },
  {
   "cell_type": "markdown",
   "id": "hoq0NwA9lA_V",
   "metadata": {
    "id": "hoq0NwA9lA_V"
   },
   "source": [
    "The goal of the second analysis task is to train linear regression models to predict users' ratings towards items. This involves a standard Data Science workflow: exploring data, building models, making predictions, and evaluating results. In this task, we will explore the impacts of feature selections and different sizes of training/testing data on the model performance. We will use another cleaned combined e-commerce sub-dataset that **is different from** the one in “Analysis of an E-commerce Dataset” task 1."
   ]
  },
  {
   "cell_type": "markdown",
   "id": "f9fd3NU_lA_W",
   "metadata": {
    "id": "f9fd3NU_lA_W"
   },
   "source": [
    "### Import Cleaned E-commerce Dataset\n",
    "The csv file named 'cleaned_ecommerce_dataset.csv' is provided. You may need to use the Pandas method, i.e., `read_csv`, for reading it. After that, please print out its total length."
   ]
  },
  {
   "cell_type": "code",
   "execution_count": 2,
   "id": "PJrb2gtAlA_W",
   "metadata": {
    "ExecuteTime": {
     "end_time": "2023-09-01T17:13:26.083545Z",
     "start_time": "2023-09-01T17:13:25.825354Z"
    },
    "id": "PJrb2gtAlA_W"
   },
   "outputs": [
    {
     "name": "stdout",
     "output_type": "stream",
     "text": [
      "2685\n"
     ]
    }
   ],
   "source": [
    "import pandas\n",
    "ecommerce_data = pandas.read_csv(\"cleaned_ecommerce_dataset (1).csv\")\n",
    "print(len(ecommerce_data))"
   ]
  },
  {
   "cell_type": "markdown",
   "id": "aqbuU6rglA_X",
   "metadata": {
    "id": "aqbuU6rglA_X"
   },
   "source": [
    "### Explore the Dataset\n",
    "\n",
    "* Use the methods, i.e., `head()` and `info()`, to have a rough picture about the data, e.g., how many columns, and the data types of each column.\n",
    "* As our goal is to predict ratings given other columns, please get the correlations between helpfulness/gender/category/review and rating by using the `corr()` method.\n",
    "* To get the correlations between different features, you may need to first convert the categorical features (i.e., gender, category and review) into numerial values. For doing this, you may need to import `OrdinalEncoder` from `sklearn.preprocessing` (refer to the useful exmaples [here](https://pbpython.com/categorical-encoding.html))\n",
    "* Please provide ___necessary explanations/analysis___ on the correlations, and figure out which are the ___most___ and ___least___ corrleated features regarding rating. Try to ___discuss___ how the correlation will affect the final prediction results, if we use these features to train a regression model for rating prediction. In what follows, we will conduct experiments to verify your hypothesis."
   ]
  },
  {
   "cell_type": "code",
   "execution_count": 3,
   "id": "W3PImHiElA_X",
   "metadata": {
    "ExecuteTime": {
     "end_time": "2023-09-01T17:13:33.354832Z",
     "start_time": "2023-09-01T17:13:33.341543Z"
    },
    "id": "W3PImHiElA_X"
   },
   "outputs": [
    {
     "name": "stdout",
     "output_type": "stream",
     "text": [
      "<class 'pandas.core.frame.DataFrame'>\n",
      "RangeIndex: 2685 entries, 0 to 2684\n",
      "Data columns (total 11 columns):\n",
      " #   Column       Non-Null Count  Dtype  \n",
      "---  ------       --------------  -----  \n",
      " 0   userId       2685 non-null   int64  \n",
      " 1   timestamp    2685 non-null   int64  \n",
      " 2   review       2685 non-null   object \n",
      " 3   item         2685 non-null   object \n",
      " 4   rating       2685 non-null   float64\n",
      " 5   helpfulness  2685 non-null   float64\n",
      " 6   gender       2685 non-null   object \n",
      " 7   category     2685 non-null   object \n",
      " 8   item_id      2685 non-null   int64  \n",
      " 9   item_price   2685 non-null   float64\n",
      " 10  user_city    2685 non-null   int64  \n",
      "dtypes: float64(3), int64(4), object(4)\n",
      "memory usage: 230.9+ KB\n",
      "             helpfulness    gender  category    review    rating\n",
      "helpfulness     1.000000  0.075947 -0.013408 -0.028259 -0.007523\n",
      "gender          0.075947  1.000000  0.022549 -0.037884 -0.034337\n",
      "category       -0.013408  0.022549  1.000000  0.001970 -0.163158\n",
      "review         -0.028259 -0.037884  0.001970  1.000000 -0.036118\n",
      "rating         -0.007523 -0.034337 -0.163158 -0.036118  1.000000\n"
     ]
    }
   ],
   "source": [
    "from sklearn.preprocessing import OrdinalEncoder\n",
    "from sklearn.model_selection import train_test_split\n",
    "\n",
    "#Using the in built .head() and .info() methods to have the mentioned rough picture of the data\n",
    "data_head = ecommerce_data.head()\n",
    "data_info = ecommerce_data.info()\n",
    "\n",
    "\n",
    "# Convert categorical features to numerical values using OrdinalEncoder\n",
    "encoder = OrdinalEncoder()\n",
    "ecommerce_data[['gender', 'category', 'review']] = encoder.fit_transform(ecommerce_data[['gender', 'category', 'review']])\n",
    "\n",
    "#To get correlation between the specified columns, we are first listing the columns than using the corr\n",
    "#method to get the correlation between all of the columns alternativelely we could use the .corr like this:\n",
    "#data['column1'].corr(df['column2']).corr.....\n",
    "\n",
    "data_correlation = ecommerce_data[['helpfulness', 'gender', 'category', 'review', 'rating']].corr()\n",
    "print(data_correlation)"
   ]
  },
  {
   "cell_type": "markdown",
   "id": "4myP5igslA_Y",
   "metadata": {
    "id": "4myP5igslA_Y"
   },
   "source": [
    "### Split Training and Testing Data\n",
    "* Machine learning models are trained to help make predictions for the future. Normally, we need to randomly split the dataset into training and testing sets, where we use the training set to train the model, and then leverage the well-trained model to make predictions on the testing set.\n",
    "* To further investigate whether the size of the training/testing data affects the model performance, please random split the data into training and testing sets with different sizes:\n",
    "    * Case 1: training data containing 10% of the entire data;\n",
    "    * Case 2: training data containing 90% of the entire data.\n",
    "* Print the shape of training and testing sets in the two cases."
   ]
  },
  {
   "cell_type": "code",
   "execution_count": 4,
   "id": "525eaf6ca60cb25b",
   "metadata": {
    "ExecuteTime": {
     "end_time": "2023-09-01T17:13:38.355107Z",
     "start_time": "2023-09-01T17:13:38.347283Z"
    },
    "collapsed": false
   },
   "outputs": [
    {
     "name": "stdout",
     "output_type": "stream",
     "text": [
      "Case 1: 10% training data\n",
      "X_train shape: (268, 10)\n",
      "X_test shape: (2417, 10)\n",
      "y_train shape: (268,)\n",
      "y_test shape: (2417,)\n",
      "\n",
      "Case 2: 90% training data\n",
      "X_train shape: (2416, 10)\n",
      "X_test shape: (269, 10)\n",
      "y_train shape: (2416,)\n",
      "y_test shape: (269,)\n"
     ]
    }
   ],
   "source": [
    "from sklearn.model_selection import train_test_split\n",
    "\n",
    "# Case 1: Using 10% of the data for training and 90% for testing\n",
    "# We use the 'test_size' parameter to specify the proportion of the test set (0.9 in this case).\n",
    "# 'random_state' is set for reproducibility.\n",
    "X_train_10, X_test_90, y_train_10, y_test_90 = train_test_split(\n",
    "    ecommerce_data.drop(columns=['rating']), ecommerce_data['rating'], test_size=0.9, random_state=42)\n",
    "\n",
    "# Case 2: Using 90% of the data for training and 10% for testing\n",
    "# Similar to above, but now the 'test_size' parameter is set to 0.1.\n",
    "X_train_90, X_test_10, y_train_90, y_test_10 = train_test_split(\n",
    "    ecommerce_data.drop(columns=['rating']), ecommerce_data['rating'], test_size=0.1, random_state=42)\n",
    "\n",
    "# Print the shapes of training and testing sets\n",
    "print(\"Case 1: 10% training data\")\n",
    "print(f\"X_train shape: {X_train_10.shape}\")\n",
    "print(f\"X_test shape: {X_test_90.shape}\")\n",
    "print(f\"y_train shape: {y_train_10.shape}\")\n",
    "print(f\"y_test shape: {y_test_90.shape}\")\n",
    "\n",
    "print(\"\\nCase 2: 90% training data\")\n",
    "print(f\"X_train shape: {X_train_90.shape}\")\n",
    "print(f\"X_test shape: {X_test_10.shape}\")\n",
    "print(f\"y_train shape: {y_train_90.shape}\")\n",
    "print(f\"y_test shape: {y_test_10.shape}\")\n"
   ]
  },
  {
   "cell_type": "code",
   "execution_count": 14,
   "id": "JIDMig9blA_Y",
   "metadata": {
    "ExecuteTime": {
     "end_time": "2023-08-29T15:39:03.532178Z",
     "start_time": "2023-08-29T15:39:03.528837Z"
    },
    "id": "JIDMig9blA_Y"
   },
   "outputs": [],
   "source": []
  },
  {
   "cell_type": "markdown",
   "id": "DjSsgT0BlA_Y",
   "metadata": {
    "id": "DjSsgT0BlA_Y"
   },
   "source": [
    "### Train Linear Regression Models with Feature Selection under Cases 1 & 2\n",
    "* When training a machine learning model for prediction, we may need to select the most important/correlated input features for more accurate results.\n",
    "* To investigate whether feature selection affects the model performance, please select two most correlated features and two least correlated features regarding rating, respectively.\n",
    "* Train four linear regression models by following the conditions:\n",
    "    - (model-a) using the training/testing data in case 1 with two most correlated input features\n",
    "    - (model-b) using the training/testing data in case 1 with two least correlated input features\n",
    "    - (model-c) using the training/testing data in case 2 with two most correlated input features\n",
    "    - (model-d) using the training/testing data in case 2 with two least correlated input features\n",
    "* By doing this, we can verify the impacts of the size of traing/testing data on the model performance via comparing model-a and model-c (or model-b and model-d); meanwhile the impacts of feature selection can be validated via comparing model-a and model-b (or model-c and model-d).    "
   ]
  },
  {
   "cell_type": "code",
   "execution_count": 5,
   "id": "503b5bd6aeadb65d",
   "metadata": {
    "ExecuteTime": {
     "end_time": "2023-09-01T17:17:10.431732Z",
     "start_time": "2023-09-01T17:17:10.183695Z"
    },
    "collapsed": false
   },
   "outputs": [
    {
     "name": "stdout",
     "output_type": "stream",
     "text": [
      "Mean Squared Error for Model-a: 1.8605359903218894\n",
      "Mean Squared Error for Model-b: 1.776581354691434\n",
      "Mean Squared Error for Model-c: 1.7245375467700423\n",
      "Mean Squared Error for Model-d: 1.681992500504392\n"
     ]
    }
   ],
   "source": [
    "from sklearn.linear_model import LinearRegression\n",
    "from sklearn.metrics import mean_squared_error\n",
    "\n",
    "# Identify the most and least correlated features with 'rating' from your previous correlation matrix\n",
    "# For demonstration, let's assume 'feature_most_1', 'feature_most_2' are most correlated,\n",
    "# and 'feature_least_1', 'feature_least_2' are least correlated.\n",
    "feature_most_1 = 'helpfulness'\n",
    "feature_most_2 = 'gender'\n",
    "feature_least_1 = 'category'\n",
    "feature_least_2 = 'review'\n",
    "\n",
    "# Initialize the Linear Regression model\n",
    "lr = LinearRegression()\n",
    "\n",
    "# Train and evaluate Model-a\n",
    "lr.fit(X_train_10[[feature_most_1, feature_most_2]], y_train_10)\n",
    "y_pred_a = lr.predict(X_test_90[[feature_most_1, feature_most_2]])\n",
    "mse_a = mean_squared_error(y_test_90, y_pred_a)\n",
    "\n",
    "# Train and evaluate Model-b\n",
    "lr.fit(X_train_10[[feature_least_1, feature_least_2]], y_train_10)\n",
    "y_pred_b = lr.predict(X_test_90[[feature_least_1, feature_least_2]])\n",
    "mse_b = mean_squared_error(y_test_90, y_pred_b)\n",
    "\n",
    "# Train and evaluate Model-c\n",
    "lr.fit(X_train_90[[feature_most_1, feature_most_2]], y_train_90)\n",
    "y_pred_c = lr.predict(X_test_10[[feature_most_1, feature_most_2]])\n",
    "mse_c = mean_squared_error(y_test_10, y_pred_c)\n",
    "\n",
    "# Train and evaluate Model-d\n",
    "lr.fit(X_train_90[[feature_least_1, feature_least_2]], y_train_90)\n",
    "y_pred_d = lr.predict(X_test_10[[feature_least_1, feature_least_2]])\n",
    "mse_d = mean_squared_error(y_test_10, y_pred_d)\n",
    "\n",
    "# Print MSE for each model to compare their performance\n",
    "print(f\"Mean Squared Error for Model-a: {mse_a}\")\n",
    "print(f\"Mean Squared Error for Model-b: {mse_b}\")\n",
    "print(f\"Mean Squared Error for Model-c: {mse_c}\")\n",
    "print(f\"Mean Squared Error for Model-d: {mse_d}\")\n"
   ]
  },
  {
   "cell_type": "code",
   "execution_count": null,
   "id": "DASzPUATlA_Z",
   "metadata": {
    "id": "DASzPUATlA_Z"
   },
   "outputs": [],
   "source": []
  },
  {
   "cell_type": "markdown",
   "id": "KATSn7hYlA_Z",
   "metadata": {
    "id": "KATSn7hYlA_Z"
   },
   "source": [
    "### Evaluate Models\n",
    "* Evaluate the performance of the four models with two metrics, including MSE and Root MSE\n",
    "* Print the results of the four models regarding the two metrics"
   ]
  },
  {
   "cell_type": "code",
   "execution_count": 6,
   "id": "4fU8GPS9lA_Z",
   "metadata": {
    "ExecuteTime": {
     "end_time": "2023-09-01T17:23:33.508725Z",
     "start_time": "2023-09-01T17:23:33.495102Z"
    },
    "id": "4fU8GPS9lA_Z"
   },
   "outputs": [
    {
     "name": "stdout",
     "output_type": "stream",
     "text": [
      "Model-a: MSE = 1.8605359903218894, RMSE = 1.3640146591301316\n",
      "Model-b: MSE = 1.776581354691434, RMSE = 1.3328845991650717\n",
      "Model-c: MSE = 1.7245375467700423, RMSE = 1.3132164889194935\n",
      "Model-d: MSE = 1.681992500504392, RMSE = 1.2969165356739007\n"
     ]
    }
   ],
   "source": [
    "from sklearn.metrics import mean_squared_error\n",
    "import numpy as np\n",
    "\n",
    "# Initializing the linear regression model\n",
    "lr = LinearRegression()\n",
    "\n",
    "# Training and evaluating Model-a (Using 10% data and most correlatd features)\n",
    "# Here we fit the model using training data and make predictions on test data\n",
    "lr.fit(X_train_10[[feature_most_1, feature_most_2]], y_train_10)\n",
    "y_pred_a = lr.predict(X_test_90[[feature_most_1, feature_most_2]])\n",
    "\n",
    "# Calculating MSE and RMSE for Model-a\n",
    "mse_a = mean_squared_error(y_test_90, y_pred_a)\n",
    "rmse_a = np.sqrt(mse_a)  # RMSE is just the square root of MSE\n",
    "\n",
    "# Training & evaluating Model-b (using 10% data but least correlated fetaures)\n",
    "lr.fit(X_train_10[[feature_least_1, feature_least_2]], y_train_10)\n",
    "y_pred_b = lr.predict(X_test_90[[feature_least_1, feature_least_2]])\n",
    "\n",
    "# Calculating MSE and RMSE for Model-b\n",
    "mse_b = mean_squared_error(y_test_90, y_pred_b)\n",
    "rmse_b = np.sqrt(mse_b)\n",
    "\n",
    "# Training & evaluating Model-c (90% training data, most correlated features)\n",
    "# Fittin the model on training data and then making prediction on test data\n",
    "lr.fit(X_train_90[[feature_most_1, feature_most_2]], y_train_90)\n",
    "y_pred_c = lr.predict(X_test_10[[feature_most_1, feature_most_2]])\n",
    "\n",
    "# Calculate MSE and RMSE for Model-c\n",
    "mse_c = mean_squared_error(y_test_10, y_pred_c)\n",
    "rmse_c = np.sqrt(mse_c)  # RMSE is squar root of MSE\n",
    "\n",
    "# Training and Evaluatin Model-d (90% data, least correlated features)\n",
    "lr.fit(X_train_90[[feature_least_1, feature_least_2]], y_train_90)\n",
    "y_pred_d = lr.predict(X_test_10[[feature_least_1, feature_least_2]])\n",
    "\n",
    "# Calcualte MSE and RMSE for Model-d\n",
    "mse_d = mean_squared_error(y_test_10, y_pred_d)\n",
    "rmse_d = np.sqrt(mse_d)  # RMSE is sqrt of MSE\n",
    "\n",
    "# Printing MSE and RMSE for all models to compare their preformance\n",
    "print(f\"Model-a: MSE = {mse_a}, RMSE = {rmse_a}\")\n",
    "print(f\"Model-b: MSE = {mse_b}, RMSE = {rmse_b}\")\n",
    "print(f\"Model-c: MSE = {mse_c}, RMSE = {rmse_c}\")\n",
    "print(f\"Model-d: MSE = {mse_d}, RMSE = {rmse_d}\")\n"
   ]
  },
  {
   "cell_type": "markdown",
   "id": "Y9jx-eY6lA_a",
   "metadata": {
    "id": "Y9jx-eY6lA_a"
   },
   "source": [
    "### Visualize, Compare and Analyze the Results\n",
    "* Visulize the results, and perform ___insightful analysis___ on the obtained results. For better visualization, you may need to carefully set the scale for the y-axis.\n",
    "* Normally, the model trained with most correlated features and more training data will get better results. Do you obtain the similar observations? If not, please ___explain the possible reasons___."
   ]
  },
  {
   "cell_type": "code",
   "execution_count": 7,
   "id": "3TNAIGDilA_a",
   "metadata": {
    "ExecuteTime": {
     "end_time": "2023-09-01T17:27:10.506097Z",
     "start_time": "2023-09-01T17:27:09.896688Z"
    },
    "id": "3TNAIGDilA_a"
   },
   "outputs": [
    {
     "data": {
      "image/png": "[encoded data removed]",
      "text/plain": [
       "<Figure size 1200x600 with 2 Axes>"
      ]
     },
     "metadata": {},
     "output_type": "display_data"
    }
   ],
   "source": [
    "import matplotlib.pyplot as plt\n",
    "\n",
    "models = ['Model-a', 'Model-b', 'Model-c', 'Model-d']\n",
    "mse_values = [mse_a, mse_b, mse_c, mse_d]\n",
    "rmse_values = [rmse_a, rmse_b, rmse_c, rmse_d]\n",
    "\n",
    "# Creating two subplots side by side, because why not?\n",
    "fig, axes = plt.subplots(1, 2, figsize=(12, 6))\n",
    "\n",
    "# Time to plot MSE first. Going with blue bars this time.\n",
    "axes[0].bar(models, mse_values, color='blue')\n",
    "axes[0].set_title('Mean Squared Error (MSE)')  # setting title\n",
    "axes[0].set_xlabel('Models')  # X-axis label\n",
    "axes[0].set_ylabel('MSE')  # Y-axis label\n",
    "# Manually setting the y-axis scale to make it easier to see differences\n",
    "axes[0].set_ylim([0, max(mse_values) + 1])  \n",
    "\n",
    "# plot RMSE. Let's go with green bars for this\n",
    "axes[1].bar(models, rmse_values, color='green')\n",
    "axes[1].set_title('Root Mean Squared Error (RMSE)')  # title here\n",
    "axes[1].set_xlabel('Models')  # x label\n",
    "axes[1].set_ylabel('RMSE')  # y label\n",
    "# Again, setting y-axis scale so its easier to compare\n",
    "axes[1].set_ylim([0, max(rmse_values) + 1])  \n",
    "\n",
    "#Let's see those bar charts.\n",
    "plt.show()"
   ]
  },
  {
   "cell_type": "code",
   "execution_count": null,
   "id": "a25f083020649f2a",
   "metadata": {
    "collapsed": false
   },
   "outputs": [],
   "source": []
  }
 ],
 "metadata": {
  "colab": {
   "provenance": []
  },
  "kernelspec": {
   "display_name": "Python 3",
   "language": "python",
   "name": "python3"
  },
  "language_info": {
   "codemirror_mode": {
    "name": "ipython",
    "version": 3
   },
   "file_extension": ".py",
   "mimetype": "text/x-python",
   "name": "python",
   "nbconvert_exporter": "python",
   "pygments_lexer": "ipython3",
   "version": "3.8.3"
  }
 },
 "nbformat": 4,
 "nbformat_minor": 5
}
